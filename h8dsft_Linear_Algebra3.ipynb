{
 "cells": [
  {
   "cell_type": "markdown",
   "metadata": {},
   "source": [
    "## Assignment Instructions\n",
    "\n",
    "Apakah $\\begin{bmatrix}1 \\\\3\\end{bmatrix}$ adalah eigenvector dari $\\begin{bmatrix}1 & -1\\\\6 & 4 \\end{bmatrix}$? Jika iya, berapakah eigenvalue-nya?"
   ]
  },
  {
   "cell_type": "markdown",
   "metadata": {},
   "source": [
    "## Import Library"
   ]
  },
  {
   "cell_type": "code",
   "execution_count": 11,
   "metadata": {},
   "outputs": [],
   "source": [
    "import numpy as np "
   ]
  },
  {
   "cell_type": "markdown",
   "metadata": {},
   "source": [
    "### Soal 1"
   ]
  },
  {
   "cell_type": "code",
   "execution_count": 14,
   "metadata": {},
   "outputs": [],
   "source": [
    "matrix = np.array([[1,-1],\n",
    "          [6,4]]) # Membuat matrix 2x2\n",
    "eig_vec = np.array([1,3]) #Membuat eigen vector"
   ]
  },
  {
   "cell_type": "code",
   "execution_count": 15,
   "metadata": {},
   "outputs": [
    {
     "data": {
      "text/plain": [
       "array([-2.,  6.])"
      ]
     },
     "execution_count": 15,
     "metadata": {},
     "output_type": "execute_result"
    }
   ],
   "source": [
    "matrix @ eig_vec / eig_vec # Melakukan jumlah kali dari matrix dan eigen vector lalu dibagi eigen vector"
   ]
  },
  {
   "cell_type": "markdown",
   "metadata": {},
   "source": [
    "karena yang dihasilkan dari hasil perhitungan adalah ```-2``` dan ```6``` maka $\\begin{bmatrix}1 \\\\3\\end{bmatrix}$ bukan eigen vector dari $\\begin{bmatrix}1 & -1\\\\6 & 4 \\end{bmatrix}$"
   ]
  }
 ],
 "metadata": {
  "kernelspec": {
   "display_name": "Python 3.10.4 64-bit",
   "language": "python",
   "name": "python3"
  },
  "language_info": {
   "codemirror_mode": {
    "name": "ipython",
    "version": 3
   },
   "file_extension": ".py",
   "mimetype": "text/x-python",
   "name": "python",
   "nbconvert_exporter": "python",
   "pygments_lexer": "ipython3",
   "version": "3.10.4"
  },
  "orig_nbformat": 4,
  "vscode": {
   "interpreter": {
    "hash": "4217bdb66c1619d3c7bf3a5f6dea8f7bd4200ce5b7b90b812037b80bad35d2ee"
   }
  }
 },
 "nbformat": 4,
 "nbformat_minor": 2
}
